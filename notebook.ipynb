{
 "cells": [
  {
   "cell_type": "code",
   "execution_count": 1,
   "metadata": {},
   "outputs": [
    {
     "name": "stdout",
     "output_type": "stream",
     "text": [
      "Loading environment variable from .env file\n"
     ]
    }
   ],
   "source": [
    "import pandas as pd\n",
    "import pickle\n",
    "import numpy as np\n",
    "from domain.entity.feature_extractor import FeatureExtractor"
   ]
  },
  {
   "cell_type": "code",
   "execution_count": 26,
   "metadata": {},
   "outputs": [
    {
     "name": "stdout",
     "output_type": "stream",
     "text": [
      "['http://btechsmartclass.com/data_structures/single-linked-list.htm']\n"
     ]
    }
   ],
   "source": [
    "link='http://btechsmartclass.com/data_structures/single-linked-list.html'\n",
    "link=link.rstrip(link[-1])\n",
    "urls = link.split(\"\\r\\n\")\n",
    "urls = [url.strip() for url in urls]\n",
    "print(urls)"
   ]
  },
  {
   "cell_type": "code",
   "execution_count": 27,
   "metadata": {},
   "outputs": [],
   "source": [
    "extractor = FeatureExtractor()\n",
    "features_from_url_df = extractor.generate_dataframe_from_urls(urls)"
   ]
  },
  {
   "cell_type": "code",
   "execution_count": 20,
   "metadata": {},
   "outputs": [
    {
     "name": "stdout",
     "output_type": "stream",
     "text": [
      "<class 'pandas.core.frame.DataFrame'>\n",
      "Int64Index: 1 entries, 0 to 0\n",
      "Data columns (total 26 columns):\n",
      " #   Column                   Non-Null Count  Dtype \n",
      "---  ------                   --------------  ----- \n",
      " 0   directory_length         1 non-null      object\n",
      " 1   time_domain_activation   1 non-null      object\n",
      " 2   length_url               1 non-null      object\n",
      " 3   file_length              1 non-null      object\n",
      " 4   qty_slash_url            1 non-null      object\n",
      " 5   qty_plus_directory       1 non-null      object\n",
      " 6   domain_length            1 non-null      object\n",
      " 7   qty_vowels_domain        1 non-null      object\n",
      " 8   qty_asterisk_directory   1 non-null      object\n",
      " 9   qty_hyphen_directory     1 non-null      object\n",
      " 10  qty_dot_domain           1 non-null      object\n",
      " 11  qty_underline_directory  1 non-null      object\n",
      " 12  qty_percent_directory    1 non-null      object\n",
      " 13  qty_dot_url              1 non-null      object\n",
      " 14  qty_hyphen_url           1 non-null      object\n",
      " 15  qty_hyphen_file          1 non-null      object\n",
      " 16  qty_hyphen_domain        1 non-null      object\n",
      " 17  params_length            1 non-null      object\n",
      " 18  qty_underline_url        1 non-null      object\n",
      " 19  qty_tld_url              1 non-null      object\n",
      " 20  qty_plus_params          1 non-null      object\n",
      " 21  qty_percent_url          1 non-null      object\n",
      " 22  qty_equal_params         1 non-null      object\n",
      " 23  qty_dot_params           1 non-null      object\n",
      " 24  qty_percent_params       1 non-null      object\n",
      " 25  qty_underline_params     1 non-null      object\n",
      "dtypes: object(26)\n",
      "memory usage: 216.0+ bytes\n"
     ]
    }
   ],
   "source": [
    "features_from_url_df.info()"
   ]
  },
  {
   "cell_type": "code",
   "execution_count": 2,
   "metadata": {},
   "outputs": [],
   "source": [
    "from domain.predictor import ModelResolver\n",
    "import pandas as pd\n",
    "from domain.utils import load_object\n",
    "import os,sys\n",
    "from datetime import datetime\n",
    "from sklearn.preprocessing import RobustScaler"
   ]
  },
  {
   "cell_type": "code",
   "execution_count": 4,
   "metadata": {},
   "outputs": [
    {
     "data": {
      "text/plain": [
       "Pipeline(steps=[('RobustScaler', RobustScaler())])"
      ]
     },
     "execution_count": 4,
     "metadata": {},
     "output_type": "execute_result"
    }
   ],
   "source": [
    "model_resolver = ModelResolver(model_registry=\"saved_models\")\n",
    "transformer = load_object(file_path=model_resolver.get_latest_transformer_path())\n",
    "transformer"
   ]
  },
  {
   "cell_type": "code",
   "execution_count": 29,
   "metadata": {},
   "outputs": [
    {
     "data": {
      "text/plain": [
       "array([[ 0.94117647, -0.47425727,  1.95454545, 23.        ,  2.        ,\n",
       "         1.        ,  0.125     , -0.33333333,  1.        ,  1.        ,\n",
       "        -1.        ,  2.        ,  1.        ,  0.        ,  2.        ,\n",
       "         3.        ,  0.        ,  0.        ,  1.        ,  2.        ,\n",
       "         0.        ,  0.        ,  0.        ,  0.        ,  0.        ,\n",
       "         0.        ]])"
      ]
     },
     "execution_count": 29,
     "metadata": {},
     "output_type": "execute_result"
    }
   ],
   "source": [
    "input_feature_names =  features_from_url_df.columns\n",
    "input_arr = transformer.transform(features_from_url_df[input_feature_names])\n",
    "input_arr"
   ]
  },
  {
   "cell_type": "code",
   "execution_count": 30,
   "metadata": {},
   "outputs": [
    {
     "name": "stdout",
     "output_type": "stream",
     "text": [
      "[1]\n"
     ]
    }
   ],
   "source": [
    "model = load_object(file_path=model_resolver.get_latest_model_path())\n",
    "prediction = model.predict(input_arr)\n",
    "print(prediction)"
   ]
  },
  {
   "cell_type": "code",
   "execution_count": 31,
   "metadata": {},
   "outputs": [
    {
     "name": "stdout",
     "output_type": "stream",
     "text": [
      "0.016024888 0.9839751\n"
     ]
    }
   ],
   "source": [
    "y_pro_phishing = model.predict_proba(input_arr)[0,0]\n",
    "y_pro_non_phishing = model.predict_proba(input_arr)[0,1]\n",
    "print(y_pro_phishing,y_pro_non_phishing)"
   ]
  },
  {
   "cell_type": "code",
   "execution_count": 5,
   "metadata": {},
   "outputs": [
    {
     "name": "stdout",
     "output_type": "stream",
     "text": [
      "saved_models\\2\\transformer\\transformer.pkl\n",
      "saved_models\\2\\model\\model.pkl\n"
     ]
    }
   ],
   "source": [
    "print(model_resolver.get_latest_transformer_path())\n",
    "print(model_resolver.get_latest_model_path())"
   ]
  }
 ],
 "metadata": {
  "kernelspec": {
   "display_name": "Python 3",
   "language": "python",
   "name": "python3"
  },
  "language_info": {
   "codemirror_mode": {
    "name": "ipython",
    "version": 3
   },
   "file_extension": ".py",
   "mimetype": "text/x-python",
   "name": "python",
   "nbconvert_exporter": "python",
   "pygments_lexer": "ipython3",
   "version": "3.9.12"
  },
  "orig_nbformat": 4,
  "vscode": {
   "interpreter": {
    "hash": "86240053dd9fec4f098fd98ab8f8dac2e5367d9025291fc3c157b694d5304d11"
   }
  }
 },
 "nbformat": 4,
 "nbformat_minor": 2
}
